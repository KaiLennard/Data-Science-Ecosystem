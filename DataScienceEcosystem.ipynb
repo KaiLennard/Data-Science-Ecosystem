{
 "cells": [
  {
   "cell_type": "markdown",
   "id": "f7783989",
   "metadata": {},
   "source": [
    "# Data Science Tools and Ecosystem"
   ]
  },
  {
   "cell_type": "markdown",
   "id": "2a1cf7c1",
   "metadata": {},
   "source": [
    "In this notebook, Data Science Tools and Ecosystem are summarized."
   ]
  },
  {
   "cell_type": "markdown",
   "id": "1a460fc2",
   "metadata": {},
   "source": [
    "\n",
    "Objectives:\n",
    "\n",
    "* List popular languages for Data Science\n",
    "* List commonly used libraries used by Data Scientists\n",
    "* Table of Data Science Tools\n",
    "* Artihmetic expressions in Pyhton"
   ]
  },
  {
   "cell_type": "markdown",
   "id": "59c39931",
   "metadata": {},
   "source": [
    "Some of the popular languages that Data Scientists use are:"
   ]
  },
  {
   "cell_type": "markdown",
   "id": "04ee2f3b",
   "metadata": {},
   "source": [
    "1. Python\n",
    "2. R.\n",
    "3. Julia"
   ]
  },
  {
   "cell_type": "markdown",
   "id": "0d969ff7",
   "metadata": {},
   "source": [
    "Some of the commonly used libraries used by Data Scientists include:"
   ]
  },
  {
   "cell_type": "markdown",
   "id": "8395dad9",
   "metadata": {},
   "source": [
    "1. Scikit-learn\n",
    "2. Matplotlib\n",
    "3. Pytorch"
   ]
  },
  {
   "cell_type": "markdown",
   "id": "d7387f83",
   "metadata": {},
   "source": [
    "|Data Science Tools|\n",
    "| -----|\n",
    "|Jupyter Notebook|\n",
    "|R Studio|\n",
    "|MySQL|"
   ]
  },
  {
   "cell_type": "markdown",
   "id": "a29222d5",
   "metadata": {},
   "source": [
    "### Below are a few examples of evaluating arithmetic expressions in Python"
   ]
  },
  {
   "cell_type": "markdown",
   "id": "87573219",
   "metadata": {},
   "source": [
    "This a simple arithmetic expression to mutiply then add integers\n"
   ]
  },
  {
   "cell_type": "code",
   "execution_count": 15,
   "id": "61642abe",
   "metadata": {},
   "outputs": [
    {
     "data": {
      "text/plain": [
       "17"
      ]
     },
     "execution_count": 15,
     "metadata": {},
     "output_type": "execute_result"
    }
   ],
   "source": [
    "(3*4)+5  "
   ]
  },
  {
   "cell_type": "markdown",
   "id": "498b1f2e",
   "metadata": {},
   "source": [
    "This will convert 200 minutes to hours by diving by 60"
   ]
  },
  {
   "cell_type": "code",
   "execution_count": 16,
   "id": "e497026e",
   "metadata": {},
   "outputs": [
    {
     "name": "stdout",
     "output_type": "stream",
     "text": [
      "3.3333333333333335 hours\n"
     ]
    }
   ],
   "source": [
    "minutes = 200\n",
    "hours = minutes/60\n",
    "print(hours,\"hours\")"
   ]
  },
  {
   "cell_type": "markdown",
   "id": "61d71712",
   "metadata": {},
   "source": [
    "## Author:\n",
    "Kai Lennard Rose"
   ]
  }
 ],
 "metadata": {
  "kernelspec": {
   "display_name": "Python 3 (ipykernel)",
   "language": "python",
   "name": "python3"
  },
  "language_info": {
   "codemirror_mode": {
    "name": "ipython",
    "version": 3
   },
   "file_extension": ".py",
   "mimetype": "text/x-python",
   "name": "python",
   "nbconvert_exporter": "python",
   "pygments_lexer": "ipython3",
   "version": "3.9.13"
  }
 },
 "nbformat": 4,
 "nbformat_minor": 5
}
